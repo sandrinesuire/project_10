{
 "cells": [
  {
   "cell_type": "code",
   "execution_count": 28,
   "metadata": {
    "collapsed": true,
    "pycharm": {
     "name": "#%%\n"
    }
   },
   "outputs": [],
   "source": [
    "from sklearn import preprocessing\n",
    "import pandas as pd\n",
    "import numpy as np\n",
    "from sklearn import model_selection\n",
    "from sklearn import neighbors, metrics\n",
    "from sklearn.model_selection import KFold\n",
    "\n",
    "data = pd.read_csv(\"winequality-red.csv\", sep=\";\")\n",
    "X = data[data.columns[:-1]].values\n",
    "y = data[\"quality\"].values\n",
    "y_class = np.where(y<6, 0, 1)\n",
    "X_train, X_test, y_train, y_test = model_selection.train_test_split(X, y_class, test_size=0.3)\n",
    "std_scale = preprocessing.StandardScaler().fit(X_train)\n",
    "X_train_std = std_scale.transform(X_train)\n",
    "X_test_std = std_scale.transform(X_test)\n",
    "param_grid = {'n_neighbors':[3,5,7,9,11,13,15]}\n",
    "score = 'accuracy'"
   ]
  },
  {
   "cell_type": "code",
   "execution_count": 29,
   "outputs": [],
   "source": [
    "class MyGridSearchCv:\n",
    "    def __init__(self, param_grid, cv=1, scoring='accuracy'):\n",
    "        self.cv = cv\n",
    "        self.param_grid = param_grid\n",
    "        self.scoring = scoring\n",
    "        self.cv_results_ = {}\n",
    "\n",
    "    def fit(self, X_train, y_train):\n",
    "        k_fold = KFold(n_splits=self.cv)\n",
    "        for k in self.param_grid:\n",
    "            for train_indices, test_indices in k_fold.split(X_train):\n",
    "                knn = neighbors.KNeighborsClassifier(k)\n",
    "                knn.fit(train_indices, y_train)\n",
    "                self.cv_results_[]\n"
   ],
   "metadata": {
    "collapsed": false,
    "pycharm": {
     "name": "#%%\n"
    }
   }
  },
  {
   "cell_type": "code",
   "execution_count": 30,
   "outputs": [
    {
     "name": "stdout",
     "output_type": "stream",
     "text": [
      "{'n_neighbors': 13}\n",
      "Résultats de la validation croisée :\n",
      "accuracy = 0.687 (+/-0.023) for {'n_neighbors': 3}\n",
      "accuracy = 0.702 (+/-0.024) for {'n_neighbors': 5}\n",
      "accuracy = 0.708 (+/-0.029) for {'n_neighbors': 7}\n",
      "accuracy = 0.710 (+/-0.027) for {'n_neighbors': 9}\n",
      "accuracy = 0.710 (+/-0.028) for {'n_neighbors': 11}\n",
      "accuracy = 0.715 (+/-0.055) for {'n_neighbors': 13}\n",
      "accuracy = 0.710 (+/-0.029) for {'n_neighbors': 15}\n",
      "\n",
      "Sur le jeu de test : 0.742\n"
     ]
    }
   ],
   "source": [
    "clf = model_selection.GridSearchCV(neighbors.KNeighborsClassifier(), param_grid, cv=5, scoring=score)\n",
    "clf.fit(X_train_std, y_train)\n",
    "print(clf.best_params_)\n",
    "print(\"Résultats de la validation croisée :\")\n",
    "for mean, std, params in zip(\n",
    "        clf.cv_results_['mean_test_score'],\n",
    "        clf.cv_results_['std_test_score'],\n",
    "        clf.cv_results_['params']\n",
    "    ):\n",
    "\n",
    "    print(\"{} = {:.3f} (+/-{:.03f}) for {}\".format(\n",
    "        score,\n",
    "        mean,\n",
    "        std*2,\n",
    "        params\n",
    "    ) )\n",
    "\n",
    "y_pred = clf.predict(X_test_std)\n",
    "print(\"\\nSur le jeu de test : {:.3f}\".format(metrics.accuracy_score(y_test, y_pred)))"
   ],
   "metadata": {
    "collapsed": false,
    "pycharm": {
     "name": "#%%\n"
    }
   }
  }
 ],
 "metadata": {
  "kernelspec": {
   "display_name": "Python 3",
   "language": "python",
   "name": "python3"
  },
  "language_info": {
   "codemirror_mode": {
    "name": "ipython",
    "version": 2
   },
   "file_extension": ".py",
   "mimetype": "text/x-python",
   "name": "python",
   "nbconvert_exporter": "python",
   "pygments_lexer": "ipython2",
   "version": "2.7.6"
  }
 },
 "nbformat": 4,
 "nbformat_minor": 0
}